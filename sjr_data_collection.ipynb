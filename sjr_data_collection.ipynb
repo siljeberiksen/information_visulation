{
 "cells": [
  {
   "cell_type": "markdown",
   "metadata": {},
   "source": [
    "### Data collection from SJR (https://www.scimagojr.com/)\n",
    "\n",
    "We will collection information about journal rankings from 2013 to 2023"
   ]
  },
  {
   "cell_type": "code",
   "execution_count": null,
   "metadata": {},
   "outputs": [],
   "source": [
    "#!pip install requests"
   ]
  },
  {
   "cell_type": "code",
   "execution_count": 11,
   "metadata": {},
   "outputs": [
    {
     "name": "stdout",
     "output_type": "stream",
     "text": [
      "File saved at: ./sjr_data/2013_sjr.csv\n",
      "File saved at: ./sjr_data/2014_sjr.csv\n",
      "File saved at: ./sjr_data/2015_sjr.csv\n",
      "File saved at: ./sjr_data/2016_sjr.csv\n",
      "File saved at: ./sjr_data/2017_sjr.csv\n",
      "File saved at: ./sjr_data/2018_sjr.csv\n",
      "File saved at: ./sjr_data/2019_sjr.csv\n",
      "File saved at: ./sjr_data/2020_sjr.csv\n",
      "File saved at: ./sjr_data/2021_sjr.csv\n",
      "File saved at: ./sjr_data/2022_sjr.csv\n"
     ]
    }
   ],
   "source": [
    "import requests\n",
    "import os\n",
    "\n",
    "# Specify the URL you want to download\n",
    "\n",
    "for year in range (2013, 2023):\n",
    "    url = f\"https://www.scimagojr.com/journalrank.php?year={year}&out=xls\"\n",
    "\n",
    "    # Specify the folder where you want to save the file\n",
    "    folder_path = \"./sjr_data\"\n",
    "\n",
    "\n",
    "    # Make the HTTP request\n",
    "    response = requests.get(url)\n",
    "\n",
    "    # Check if the request was successful (status code 200)\n",
    "    if response.status_code == 200:\n",
    "        # Extract the file name from the URL\n",
    "        file_name = os.path.join(folder_path,f\"{year}_sjr.csv\")\n",
    "\n",
    "        # Save the content to the file\n",
    "        with open(file_name, 'wb') as file:\n",
    "            file.write(response.content)\n",
    "        print(f\"File saved at: {file_name}\")\n",
    "    else:\n",
    "        print(f\"Failed to retrieve the content. Status code: {response.status_code}\")\n"
   ]
  }
 ],
 "metadata": {
  "kernelspec": {
   "display_name": "Python 3 (ipykernel)",
   "language": "python",
   "name": "python3"
  },
  "language_info": {
   "codemirror_mode": {
    "name": "ipython",
    "version": 3
   },
   "file_extension": ".py",
   "mimetype": "text/x-python",
   "name": "python",
   "nbconvert_exporter": "python",
   "pygments_lexer": "ipython3",
   "version": "3.8.18"
  }
 },
 "nbformat": 4,
 "nbformat_minor": 2
}
