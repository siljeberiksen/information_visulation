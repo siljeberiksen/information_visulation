{
  "cells": [
    {
      "cell_type": "markdown",
      "id": "6efbf646",
      "metadata": {
        "id": "6efbf646"
      },
      "source": [
        "# Scopus: Data collection\n",
        "\n",
        "### Useful links:\n",
        "- Scopus [[Source](https://www.scopus.com/)]\n",
        "- Scopus API (Application Programming Interface) Documentation [[Source 1](https://dev.elsevier.com/technical_documentation.html); [Source 2](https://dev.elsevier.com/api_docs.html)]\n",
        "- The \"elsapy\" package in the Python programming language [[Source](https://github.com/ElsevierDev/elsapy)]\n",
        "\n"
      ]
    },
    {
      "cell_type": "code",
      "execution_count": 2,
      "id": "1b5f0707",
      "metadata": {
        "scrolled": true,
        "colab": {
          "base_uri": "https://localhost:8080/"
        },
        "id": "1b5f0707",
        "outputId": "34c469ee-a624-410f-f531-448afdbab1fc"
      },
      "outputs": [
        {
          "output_type": "stream",
          "name": "stdout",
          "text": [
            "Collecting elsapy\n",
            "  Downloading elsapy-0.5.1-py3-none-any.whl (12 kB)\n",
            "Requirement already satisfied: requests in /usr/local/lib/python3.10/dist-packages (from elsapy) (2.31.0)\n",
            "Requirement already satisfied: charset-normalizer<4,>=2 in /usr/local/lib/python3.10/dist-packages (from requests->elsapy) (3.3.2)\n",
            "Requirement already satisfied: idna<4,>=2.5 in /usr/local/lib/python3.10/dist-packages (from requests->elsapy) (3.6)\n",
            "Requirement already satisfied: urllib3<3,>=1.21.1 in /usr/local/lib/python3.10/dist-packages (from requests->elsapy) (2.0.7)\n",
            "Requirement already satisfied: certifi>=2017.4.17 in /usr/local/lib/python3.10/dist-packages (from requests->elsapy) (2023.11.17)\n",
            "Installing collected packages: elsapy\n",
            "Successfully installed elsapy-0.5.1\n"
          ]
        },
        {
          "output_type": "stream",
          "name": "stderr",
          "text": [
            "INFO:elsapy.elsclient:Module loaded.\n",
            "INFO:elsapy.utils:Module loaded.\n",
            "INFO:elsapy.elssearch:Module loaded.\n"
          ]
        }
      ],
      "source": [
        "## 0 ## Installing and importing modules/libraries\n",
        "#!pip install pandas # To work with dataframes\n",
        "#!pip install json # To work with data in JSON format\n",
        "#!pip install elsapy # To work with api.elsevier.com\n",
        "\n",
        "import pandas\n",
        "import json\n",
        "from elsapy.elsclient import ElsClient\n",
        "from elsapy.elssearch import ElsSearch\n",
        "\n",
        "#help()"
      ]
    },
    {
      "cell_type": "code",
      "execution_count": 3,
      "id": "21a5ea1f",
      "metadata": {
        "scrolled": true,
        "id": "21a5ea1f"
      },
      "outputs": [],
      "source": [
        "## 1 ## Authorization by key\n",
        "\n",
        "# Specifying the API key\n",
        "api_key = \"a6b49bc00cce366026d4cfd9396ac572\"\n",
        "\n",
        "# Initializing the client\n",
        "client = ElsClient(api_key)"
      ]
    },
    {
      "cell_type": "code",
      "execution_count": 4,
      "id": "2e13256f",
      "metadata": {
        "scrolled": true,
        "id": "2e13256f"
      },
      "outputs": [],
      "source": [
        "## 2 ## Request formation with all the necessary parameters\n",
        "\n",
        "# The query\n",
        "query = 'TITLE-ABS-KEY(\"environment* practice*\" OR \"ecolog* practice*\" OR \"eco-practice*\" OR \"environment* behav*\" OR \"ecolog* behav*\" OR \"eco-behav*\") AND PUBYEAR > 2012 AND PUBYEAR < 2024 AND (LIMIT-TO(DOCTYPE, \"ar\")) AND (LIMIT-TO(LANGUAGE, \"English\")) AND (LIMIT-TO(SUBJAREA, \"SOCI\"))'\n",
        "\n",
        "# The name of the service\n",
        "service = \"scopus\""
      ]
    },
    {
      "cell_type": "markdown",
      "id": "05413069",
      "metadata": {
        "id": "05413069"
      },
      "source": [
        "**The formula of the search query from the web version of Scopus:** TITLE-ABS-KEY ( \"environment* practice*\" OR \"ecolog* practice*\" OR \"eco-practice*\" OR \"environment* behav*\" OR \"ecolog* behav*\" OR \"eco-behav*\" ) AND PUBYEAR > 2012 AND PUBYEAR < 2024 AND ( LIMIT-TO ( DOCTYPE , \"ar\" ) ) AND ( LIMIT-TO ( LANGUAGE , \"English\" ) ) AND ( LIMIT-TO ( SUBJAREA , \"SOCI\" ) )"
      ]
    },
    {
      "cell_type": "markdown",
      "id": "ecb7e7d2",
      "metadata": {
        "id": "ecb7e7d2"
      },
      "source": [
        "**Explanation for the query parameters used (for more information, see [here](https://www.scopus.com/search/form.uri?display=advanced)):**\n",
        "1. Field codes:\n",
        "    - TITLE-ABS-KEY() - A combined field that searches abstracts, keywords, and document titles.\n",
        "    - PUBYEAR - A numeric field indicating the year of publication.\n",
        "2. Operators:\n",
        "    - AND - Use AND when you want your results to include all terms and the terms may be far apart.\n",
        "3. Wildcards:\n",
        "    - Asterisk (*) - Replace multiple characters anywhere in a word. The asterisk replaces 0 or more characters, so it can be used to find any number or to indicate a character that may or may not be present."
      ]
    },
    {
      "cell_type": "code",
      "execution_count": null,
      "id": "400bec2e",
      "metadata": {
        "scrolled": true,
        "colab": {
          "base_uri": "https://localhost:8080/"
        },
        "id": "400bec2e",
        "outputId": "9dd4cb65-1dcd-409d-b42f-a5a20d5f3699"
      },
      "outputs": [
        {
          "output_type": "stream",
          "name": "stderr",
          "text": [
            "INFO:elsapy.elsclient:Sending GET request to https://api.elsevier.com/content/search/scopus?query=TITLE-ABS-KEY%28%22environment%2A+practice%2A%22+OR+%22ecolog%2A+practice%2A%22+OR+%22eco-practice%2A%22+OR+%22environment%2A+behav%2A%22+OR+%22ecolog%2A+behav%2A%22+OR+%22eco-behav%2A%22%29+AND+PUBYEAR+%3E+2012+AND+PUBYEAR+%3C+2024+AND+%28LIMIT-TO%28DOCTYPE%2C+%22ar%22%29%29+AND+%28LIMIT-TO%28LANGUAGE%2C+%22English%22%29%29+AND+%28LIMIT-TO%28SUBJAREA%2C+%22SOCI%22%29%29\n",
            "INFO:elsapy.elsclient:Sending GET request to https://api.elsevier.com/content/search/scopus?start=25&count=25&query=TITLE-ABS-KEY%28%22environment*+practice*%22+OR+%22ecolog*+practice*%22+OR+%22eco-practice*%22+OR+%22environment*+behav*%22+OR+%22ecolog*+behav*%22+OR+%22eco-behav*%22%29+AND+PUBYEAR+%3E+2012+AND+PUBYEAR+%3C+2024+AND+%28LIMIT-TO%28DOCTYPE%2C+%22ar%22%29%29+AND+%28LIMIT-TO%28LANGUAGE%2C+%22English%22%29%29+AND+%28LIMIT-TO%28SUBJAREA%2C+%22SOCI%22%29%29\n",
            "INFO:elsapy.elsclient:Sending GET request to https://api.elsevier.com/content/search/scopus?start=50&count=25&query=TITLE-ABS-KEY%28%22environment*+practice*%22+OR+%22ecolog*+practice*%22+OR+%22eco-practice*%22+OR+%22environment*+behav*%22+OR+%22ecolog*+behav*%22+OR+%22eco-behav*%22%29+AND+PUBYEAR+%3E+2012+AND+PUBYEAR+%3C+2024+AND+%28LIMIT-TO%28DOCTYPE%2C+%22ar%22%29%29+AND+%28LIMIT-TO%28LANGUAGE%2C+%22English%22%29%29+AND+%28LIMIT-TO%28SUBJAREA%2C+%22SOCI%22%29%29\n",
            "INFO:elsapy.elsclient:Sending GET request to https://api.elsevier.com/content/search/scopus?start=75&count=25&query=TITLE-ABS-KEY%28%22environment*+practice*%22+OR+%22ecolog*+practice*%22+OR+%22eco-practice*%22+OR+%22environment*+behav*%22+OR+%22ecolog*+behav*%22+OR+%22eco-behav*%22%29+AND+PUBYEAR+%3E+2012+AND+PUBYEAR+%3C+2024+AND+%28LIMIT-TO%28DOCTYPE%2C+%22ar%22%29%29+AND+%28LIMIT-TO%28LANGUAGE%2C+%22English%22%29%29+AND+%28LIMIT-TO%28SUBJAREA%2C+%22SOCI%22%29%29\n",
            "INFO:elsapy.elsclient:Sending GET request to https://api.elsevier.com/content/search/scopus?start=100&count=25&query=TITLE-ABS-KEY%28%22environment*+practice*%22+OR+%22ecolog*+practice*%22+OR+%22eco-practice*%22+OR+%22environment*+behav*%22+OR+%22ecolog*+behav*%22+OR+%22eco-behav*%22%29+AND+PUBYEAR+%3E+2012+AND+PUBYEAR+%3C+2024+AND+%28LIMIT-TO%28DOCTYPE%2C+%22ar%22%29%29+AND+%28LIMIT-TO%28LANGUAGE%2C+%22English%22%29%29+AND+%28LIMIT-TO%28SUBJAREA%2C+%22SOCI%22%29%29\n",
            "INFO:elsapy.elsclient:Sending GET request to https://api.elsevier.com/content/search/scopus?start=125&count=25&query=TITLE-ABS-KEY%28%22environment*+practice*%22+OR+%22ecolog*+practice*%22+OR+%22eco-practice*%22+OR+%22environment*+behav*%22+OR+%22ecolog*+behav*%22+OR+%22eco-behav*%22%29+AND+PUBYEAR+%3E+2012+AND+PUBYEAR+%3C+2024+AND+%28LIMIT-TO%28DOCTYPE%2C+%22ar%22%29%29+AND+%28LIMIT-TO%28LANGUAGE%2C+%22English%22%29%29+AND+%28LIMIT-TO%28SUBJAREA%2C+%22SOCI%22%29%29\n",
            "INFO:elsapy.elsclient:Sending GET request to https://api.elsevier.com/content/search/scopus?start=150&count=25&query=TITLE-ABS-KEY%28%22environment*+practice*%22+OR+%22ecolog*+practice*%22+OR+%22eco-practice*%22+OR+%22environment*+behav*%22+OR+%22ecolog*+behav*%22+OR+%22eco-behav*%22%29+AND+PUBYEAR+%3E+2012+AND+PUBYEAR+%3C+2024+AND+%28LIMIT-TO%28DOCTYPE%2C+%22ar%22%29%29+AND+%28LIMIT-TO%28LANGUAGE%2C+%22English%22%29%29+AND+%28LIMIT-TO%28SUBJAREA%2C+%22SOCI%22%29%29\n",
            "INFO:elsapy.elsclient:Sending GET request to https://api.elsevier.com/content/search/scopus?start=175&count=25&query=TITLE-ABS-KEY%28%22environment*+practice*%22+OR+%22ecolog*+practice*%22+OR+%22eco-practice*%22+OR+%22environment*+behav*%22+OR+%22ecolog*+behav*%22+OR+%22eco-behav*%22%29+AND+PUBYEAR+%3E+2012+AND+PUBYEAR+%3C+2024+AND+%28LIMIT-TO%28DOCTYPE%2C+%22ar%22%29%29+AND+%28LIMIT-TO%28LANGUAGE%2C+%22English%22%29%29+AND+%28LIMIT-TO%28SUBJAREA%2C+%22SOCI%22%29%29\n",
            "INFO:elsapy.elsclient:Sending GET request to https://api.elsevier.com/content/search/scopus?start=200&count=25&query=TITLE-ABS-KEY%28%22environment*+practice*%22+OR+%22ecolog*+practice*%22+OR+%22eco-practice*%22+OR+%22environment*+behav*%22+OR+%22ecolog*+behav*%22+OR+%22eco-behav*%22%29+AND+PUBYEAR+%3E+2012+AND+PUBYEAR+%3C+2024+AND+%28LIMIT-TO%28DOCTYPE%2C+%22ar%22%29%29+AND+%28LIMIT-TO%28LANGUAGE%2C+%22English%22%29%29+AND+%28LIMIT-TO%28SUBJAREA%2C+%22SOCI%22%29%29\n",
            "INFO:elsapy.elsclient:Sending GET request to https://api.elsevier.com/content/search/scopus?start=225&count=25&query=TITLE-ABS-KEY%28%22environment*+practice*%22+OR+%22ecolog*+practice*%22+OR+%22eco-practice*%22+OR+%22environment*+behav*%22+OR+%22ecolog*+behav*%22+OR+%22eco-behav*%22%29+AND+PUBYEAR+%3E+2012+AND+PUBYEAR+%3C+2024+AND+%28LIMIT-TO%28DOCTYPE%2C+%22ar%22%29%29+AND+%28LIMIT-TO%28LANGUAGE%2C+%22English%22%29%29+AND+%28LIMIT-TO%28SUBJAREA%2C+%22SOCI%22%29%29\n",
            "INFO:elsapy.elsclient:Sending GET request to https://api.elsevier.com/content/search/scopus?start=250&count=25&query=TITLE-ABS-KEY%28%22environment*+practice*%22+OR+%22ecolog*+practice*%22+OR+%22eco-practice*%22+OR+%22environment*+behav*%22+OR+%22ecolog*+behav*%22+OR+%22eco-behav*%22%29+AND+PUBYEAR+%3E+2012+AND+PUBYEAR+%3C+2024+AND+%28LIMIT-TO%28DOCTYPE%2C+%22ar%22%29%29+AND+%28LIMIT-TO%28LANGUAGE%2C+%22English%22%29%29+AND+%28LIMIT-TO%28SUBJAREA%2C+%22SOCI%22%29%29\n",
            "INFO:elsapy.elsclient:Sending GET request to https://api.elsevier.com/content/search/scopus?start=275&count=25&query=TITLE-ABS-KEY%28%22environment*+practice*%22+OR+%22ecolog*+practice*%22+OR+%22eco-practice*%22+OR+%22environment*+behav*%22+OR+%22ecolog*+behav*%22+OR+%22eco-behav*%22%29+AND+PUBYEAR+%3E+2012+AND+PUBYEAR+%3C+2024+AND+%28LIMIT-TO%28DOCTYPE%2C+%22ar%22%29%29+AND+%28LIMIT-TO%28LANGUAGE%2C+%22English%22%29%29+AND+%28LIMIT-TO%28SUBJAREA%2C+%22SOCI%22%29%29\n",
            "INFO:elsapy.elsclient:Sending GET request to https://api.elsevier.com/content/search/scopus?start=300&count=25&query=TITLE-ABS-KEY%28%22environment*+practice*%22+OR+%22ecolog*+practice*%22+OR+%22eco-practice*%22+OR+%22environment*+behav*%22+OR+%22ecolog*+behav*%22+OR+%22eco-behav*%22%29+AND+PUBYEAR+%3E+2012+AND+PUBYEAR+%3C+2024+AND+%28LIMIT-TO%28DOCTYPE%2C+%22ar%22%29%29+AND+%28LIMIT-TO%28LANGUAGE%2C+%22English%22%29%29+AND+%28LIMIT-TO%28SUBJAREA%2C+%22SOCI%22%29%29\n",
            "INFO:elsapy.elsclient:Sending GET request to https://api.elsevier.com/content/search/scopus?start=325&count=25&query=TITLE-ABS-KEY%28%22environment*+practice*%22+OR+%22ecolog*+practice*%22+OR+%22eco-practice*%22+OR+%22environment*+behav*%22+OR+%22ecolog*+behav*%22+OR+%22eco-behav*%22%29+AND+PUBYEAR+%3E+2012+AND+PUBYEAR+%3C+2024+AND+%28LIMIT-TO%28DOCTYPE%2C+%22ar%22%29%29+AND+%28LIMIT-TO%28LANGUAGE%2C+%22English%22%29%29+AND+%28LIMIT-TO%28SUBJAREA%2C+%22SOCI%22%29%29\n",
            "INFO:elsapy.elsclient:Sending GET request to https://api.elsevier.com/content/search/scopus?start=350&count=25&query=TITLE-ABS-KEY%28%22environment*+practice*%22+OR+%22ecolog*+practice*%22+OR+%22eco-practice*%22+OR+%22environment*+behav*%22+OR+%22ecolog*+behav*%22+OR+%22eco-behav*%22%29+AND+PUBYEAR+%3E+2012+AND+PUBYEAR+%3C+2024+AND+%28LIMIT-TO%28DOCTYPE%2C+%22ar%22%29%29+AND+%28LIMIT-TO%28LANGUAGE%2C+%22English%22%29%29+AND+%28LIMIT-TO%28SUBJAREA%2C+%22SOCI%22%29%29\n",
            "INFO:elsapy.elsclient:Sending GET request to https://api.elsevier.com/content/search/scopus?start=375&count=25&query=TITLE-ABS-KEY%28%22environment*+practice*%22+OR+%22ecolog*+practice*%22+OR+%22eco-practice*%22+OR+%22environment*+behav*%22+OR+%22ecolog*+behav*%22+OR+%22eco-behav*%22%29+AND+PUBYEAR+%3E+2012+AND+PUBYEAR+%3C+2024+AND+%28LIMIT-TO%28DOCTYPE%2C+%22ar%22%29%29+AND+%28LIMIT-TO%28LANGUAGE%2C+%22English%22%29%29+AND+%28LIMIT-TO%28SUBJAREA%2C+%22SOCI%22%29%29\n",
            "INFO:elsapy.elsclient:Sending GET request to https://api.elsevier.com/content/search/scopus?start=400&count=25&query=TITLE-ABS-KEY%28%22environment*+practice*%22+OR+%22ecolog*+practice*%22+OR+%22eco-practice*%22+OR+%22environment*+behav*%22+OR+%22ecolog*+behav*%22+OR+%22eco-behav*%22%29+AND+PUBYEAR+%3E+2012+AND+PUBYEAR+%3C+2024+AND+%28LIMIT-TO%28DOCTYPE%2C+%22ar%22%29%29+AND+%28LIMIT-TO%28LANGUAGE%2C+%22English%22%29%29+AND+%28LIMIT-TO%28SUBJAREA%2C+%22SOCI%22%29%29\n",
            "INFO:elsapy.elsclient:Sending GET request to https://api.elsevier.com/content/search/scopus?start=425&count=25&query=TITLE-ABS-KEY%28%22environment*+practice*%22+OR+%22ecolog*+practice*%22+OR+%22eco-practice*%22+OR+%22environment*+behav*%22+OR+%22ecolog*+behav*%22+OR+%22eco-behav*%22%29+AND+PUBYEAR+%3E+2012+AND+PUBYEAR+%3C+2024+AND+%28LIMIT-TO%28DOCTYPE%2C+%22ar%22%29%29+AND+%28LIMIT-TO%28LANGUAGE%2C+%22English%22%29%29+AND+%28LIMIT-TO%28SUBJAREA%2C+%22SOCI%22%29%29\n",
            "INFO:elsapy.elsclient:Sending GET request to https://api.elsevier.com/content/search/scopus?start=450&count=25&query=TITLE-ABS-KEY%28%22environment*+practice*%22+OR+%22ecolog*+practice*%22+OR+%22eco-practice*%22+OR+%22environment*+behav*%22+OR+%22ecolog*+behav*%22+OR+%22eco-behav*%22%29+AND+PUBYEAR+%3E+2012+AND+PUBYEAR+%3C+2024+AND+%28LIMIT-TO%28DOCTYPE%2C+%22ar%22%29%29+AND+%28LIMIT-TO%28LANGUAGE%2C+%22English%22%29%29+AND+%28LIMIT-TO%28SUBJAREA%2C+%22SOCI%22%29%29\n",
            "INFO:elsapy.elsclient:Sending GET request to https://api.elsevier.com/content/search/scopus?start=475&count=25&query=TITLE-ABS-KEY%28%22environment*+practice*%22+OR+%22ecolog*+practice*%22+OR+%22eco-practice*%22+OR+%22environment*+behav*%22+OR+%22ecolog*+behav*%22+OR+%22eco-behav*%22%29+AND+PUBYEAR+%3E+2012+AND+PUBYEAR+%3C+2024+AND+%28LIMIT-TO%28DOCTYPE%2C+%22ar%22%29%29+AND+%28LIMIT-TO%28LANGUAGE%2C+%22English%22%29%29+AND+%28LIMIT-TO%28SUBJAREA%2C+%22SOCI%22%29%29\n",
            "INFO:elsapy.elsclient:Sending GET request to https://api.elsevier.com/content/search/scopus?start=500&count=25&query=TITLE-ABS-KEY%28%22environment*+practice*%22+OR+%22ecolog*+practice*%22+OR+%22eco-practice*%22+OR+%22environment*+behav*%22+OR+%22ecolog*+behav*%22+OR+%22eco-behav*%22%29+AND+PUBYEAR+%3E+2012+AND+PUBYEAR+%3C+2024+AND+%28LIMIT-TO%28DOCTYPE%2C+%22ar%22%29%29+AND+%28LIMIT-TO%28LANGUAGE%2C+%22English%22%29%29+AND+%28LIMIT-TO%28SUBJAREA%2C+%22SOCI%22%29%29\n",
            "INFO:elsapy.elsclient:Sending GET request to https://api.elsevier.com/content/search/scopus?start=525&count=25&query=TITLE-ABS-KEY%28%22environment*+practice*%22+OR+%22ecolog*+practice*%22+OR+%22eco-practice*%22+OR+%22environment*+behav*%22+OR+%22ecolog*+behav*%22+OR+%22eco-behav*%22%29+AND+PUBYEAR+%3E+2012+AND+PUBYEAR+%3C+2024+AND+%28LIMIT-TO%28DOCTYPE%2C+%22ar%22%29%29+AND+%28LIMIT-TO%28LANGUAGE%2C+%22English%22%29%29+AND+%28LIMIT-TO%28SUBJAREA%2C+%22SOCI%22%29%29\n",
            "INFO:elsapy.elsclient:Sending GET request to https://api.elsevier.com/content/search/scopus?start=550&count=25&query=TITLE-ABS-KEY%28%22environment*+practice*%22+OR+%22ecolog*+practice*%22+OR+%22eco-practice*%22+OR+%22environment*+behav*%22+OR+%22ecolog*+behav*%22+OR+%22eco-behav*%22%29+AND+PUBYEAR+%3E+2012+AND+PUBYEAR+%3C+2024+AND+%28LIMIT-TO%28DOCTYPE%2C+%22ar%22%29%29+AND+%28LIMIT-TO%28LANGUAGE%2C+%22English%22%29%29+AND+%28LIMIT-TO%28SUBJAREA%2C+%22SOCI%22%29%29\n",
            "INFO:elsapy.elsclient:Sending GET request to https://api.elsevier.com/content/search/scopus?start=575&count=25&query=TITLE-ABS-KEY%28%22environment*+practice*%22+OR+%22ecolog*+practice*%22+OR+%22eco-practice*%22+OR+%22environment*+behav*%22+OR+%22ecolog*+behav*%22+OR+%22eco-behav*%22%29+AND+PUBYEAR+%3E+2012+AND+PUBYEAR+%3C+2024+AND+%28LIMIT-TO%28DOCTYPE%2C+%22ar%22%29%29+AND+%28LIMIT-TO%28LANGUAGE%2C+%22English%22%29%29+AND+%28LIMIT-TO%28SUBJAREA%2C+%22SOCI%22%29%29\n",
            "INFO:elsapy.elsclient:Sending GET request to https://api.elsevier.com/content/search/scopus?start=600&count=25&query=TITLE-ABS-KEY%28%22environment*+practice*%22+OR+%22ecolog*+practice*%22+OR+%22eco-practice*%22+OR+%22environment*+behav*%22+OR+%22ecolog*+behav*%22+OR+%22eco-behav*%22%29+AND+PUBYEAR+%3E+2012+AND+PUBYEAR+%3C+2024+AND+%28LIMIT-TO%28DOCTYPE%2C+%22ar%22%29%29+AND+%28LIMIT-TO%28LANGUAGE%2C+%22English%22%29%29+AND+%28LIMIT-TO%28SUBJAREA%2C+%22SOCI%22%29%29\n",
            "INFO:elsapy.elsclient:Sending GET request to https://api.elsevier.com/content/search/scopus?start=625&count=25&query=TITLE-ABS-KEY%28%22environment*+practice*%22+OR+%22ecolog*+practice*%22+OR+%22eco-practice*%22+OR+%22environment*+behav*%22+OR+%22ecolog*+behav*%22+OR+%22eco-behav*%22%29+AND+PUBYEAR+%3E+2012+AND+PUBYEAR+%3C+2024+AND+%28LIMIT-TO%28DOCTYPE%2C+%22ar%22%29%29+AND+%28LIMIT-TO%28LANGUAGE%2C+%22English%22%29%29+AND+%28LIMIT-TO%28SUBJAREA%2C+%22SOCI%22%29%29\n",
            "INFO:elsapy.elsclient:Sending GET request to https://api.elsevier.com/content/search/scopus?start=650&count=25&query=TITLE-ABS-KEY%28%22environment*+practice*%22+OR+%22ecolog*+practice*%22+OR+%22eco-practice*%22+OR+%22environment*+behav*%22+OR+%22ecolog*+behav*%22+OR+%22eco-behav*%22%29+AND+PUBYEAR+%3E+2012+AND+PUBYEAR+%3C+2024+AND+%28LIMIT-TO%28DOCTYPE%2C+%22ar%22%29%29+AND+%28LIMIT-TO%28LANGUAGE%2C+%22English%22%29%29+AND+%28LIMIT-TO%28SUBJAREA%2C+%22SOCI%22%29%29\n",
            "INFO:elsapy.elsclient:Sending GET request to https://api.elsevier.com/content/search/scopus?start=675&count=25&query=TITLE-ABS-KEY%28%22environment*+practice*%22+OR+%22ecolog*+practice*%22+OR+%22eco-practice*%22+OR+%22environment*+behav*%22+OR+%22ecolog*+behav*%22+OR+%22eco-behav*%22%29+AND+PUBYEAR+%3E+2012+AND+PUBYEAR+%3C+2024+AND+%28LIMIT-TO%28DOCTYPE%2C+%22ar%22%29%29+AND+%28LIMIT-TO%28LANGUAGE%2C+%22English%22%29%29+AND+%28LIMIT-TO%28SUBJAREA%2C+%22SOCI%22%29%29\n",
            "INFO:elsapy.elsclient:Sending GET request to https://api.elsevier.com/content/search/scopus?start=700&count=25&query=TITLE-ABS-KEY%28%22environment*+practice*%22+OR+%22ecolog*+practice*%22+OR+%22eco-practice*%22+OR+%22environment*+behav*%22+OR+%22ecolog*+behav*%22+OR+%22eco-behav*%22%29+AND+PUBYEAR+%3E+2012+AND+PUBYEAR+%3C+2024+AND+%28LIMIT-TO%28DOCTYPE%2C+%22ar%22%29%29+AND+%28LIMIT-TO%28LANGUAGE%2C+%22English%22%29%29+AND+%28LIMIT-TO%28SUBJAREA%2C+%22SOCI%22%29%29\n",
            "INFO:elsapy.elsclient:Sending GET request to https://api.elsevier.com/content/search/scopus?start=725&count=25&query=TITLE-ABS-KEY%28%22environment*+practice*%22+OR+%22ecolog*+practice*%22+OR+%22eco-practice*%22+OR+%22environment*+behav*%22+OR+%22ecolog*+behav*%22+OR+%22eco-behav*%22%29+AND+PUBYEAR+%3E+2012+AND+PUBYEAR+%3C+2024+AND+%28LIMIT-TO%28DOCTYPE%2C+%22ar%22%29%29+AND+%28LIMIT-TO%28LANGUAGE%2C+%22English%22%29%29+AND+%28LIMIT-TO%28SUBJAREA%2C+%22SOCI%22%29%29\n"
          ]
        }
      ],
      "source": [
        "## 3 ## Submitting a request\n",
        "request = ElsSearch(query = query, index = service)\n",
        "\n",
        "# Saving all the collected data on request to the \"response\" object\n",
        "response = request.execute(client, get_all = True)"
      ]
    },
    {
      "cell_type": "code",
      "execution_count": null,
      "id": "56686685",
      "metadata": {
        "scrolled": false,
        "id": "56686685"
      },
      "outputs": [],
      "source": [
        "## 4 ## Displaying the results obtained\n",
        "response.results"
      ]
    },
    {
      "cell_type": "code",
      "execution_count": null,
      "id": "ecdf0865",
      "metadata": {
        "scrolled": true,
        "id": "ecdf0865"
      },
      "outputs": [],
      "source": []
    }
  ],
  "metadata": {
    "kernelspec": {
      "display_name": "Python 3",
      "name": "python3"
    },
    "language_info": {
      "codemirror_mode": {
        "name": "ipython",
        "version": 3
      },
      "file_extension": ".py",
      "mimetype": "text/x-python",
      "name": "python",
      "nbconvert_exporter": "python",
      "pygments_lexer": "ipython3",
      "version": "3.11.4"
    },
    "colab": {
      "provenance": [],
      "gpuType": "T4"
    },
    "accelerator": "GPU"
  },
  "nbformat": 4,
  "nbformat_minor": 5
}